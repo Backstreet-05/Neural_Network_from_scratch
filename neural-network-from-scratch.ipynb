{
 "cells": [
  {
   "cell_type": "code",
   "execution_count": 1,
   "id": "6a304848",
   "metadata": {
    "_cell_guid": "b1076dfc-b9ad-4769-8c92-a6c4dae69d19",
    "_uuid": "8f2839f25d086af736a60e9eeb907d3b93b6e0e5",
    "execution": {
     "iopub.execute_input": "2024-10-28T20:18:32.680767Z",
     "iopub.status.busy": "2024-10-28T20:18:32.680337Z",
     "iopub.status.idle": "2024-10-28T20:18:33.606225Z",
     "shell.execute_reply": "2024-10-28T20:18:33.604846Z"
    },
    "papermill": {
     "duration": 0.93464,
     "end_time": "2024-10-28T20:18:33.609074",
     "exception": false,
     "start_time": "2024-10-28T20:18:32.674434",
     "status": "completed"
    },
    "tags": []
   },
   "outputs": [],
   "source": [
    "import numpy as np\n",
    "import pandas as pd\n",
    "from matplotlib import pyplot as plt"
   ]
  },
  {
   "cell_type": "code",
   "execution_count": 2,
   "id": "583fb518",
   "metadata": {
    "execution": {
     "iopub.execute_input": "2024-10-28T20:18:33.618322Z",
     "iopub.status.busy": "2024-10-28T20:18:33.617755Z",
     "iopub.status.idle": "2024-10-28T20:18:37.299129Z",
     "shell.execute_reply": "2024-10-28T20:18:37.297959Z"
    },
    "papermill": {
     "duration": 3.689157,
     "end_time": "2024-10-28T20:18:37.302052",
     "exception": false,
     "start_time": "2024-10-28T20:18:33.612895",
     "status": "completed"
    },
    "tags": []
   },
   "outputs": [],
   "source": [
    "data= pd.read_csv('/kaggle/input/digit-recognizer/train.csv')"
   ]
  },
  {
   "cell_type": "code",
   "execution_count": 3,
   "id": "1d4a23b7",
   "metadata": {
    "execution": {
     "iopub.execute_input": "2024-10-28T20:18:37.311645Z",
     "iopub.status.busy": "2024-10-28T20:18:37.311181Z",
     "iopub.status.idle": "2024-10-28T20:18:37.338451Z",
     "shell.execute_reply": "2024-10-28T20:18:37.337328Z"
    },
    "papermill": {
     "duration": 0.035013,
     "end_time": "2024-10-28T20:18:37.340860",
     "exception": false,
     "start_time": "2024-10-28T20:18:37.305847",
     "status": "completed"
    },
    "tags": []
   },
   "outputs": [
    {
     "data": {
      "text/html": [
       "<div>\n",
       "<style scoped>\n",
       "    .dataframe tbody tr th:only-of-type {\n",
       "        vertical-align: middle;\n",
       "    }\n",
       "\n",
       "    .dataframe tbody tr th {\n",
       "        vertical-align: top;\n",
       "    }\n",
       "\n",
       "    .dataframe thead th {\n",
       "        text-align: right;\n",
       "    }\n",
       "</style>\n",
       "<table border=\"1\" class=\"dataframe\">\n",
       "  <thead>\n",
       "    <tr style=\"text-align: right;\">\n",
       "      <th></th>\n",
       "      <th>label</th>\n",
       "      <th>pixel0</th>\n",
       "      <th>pixel1</th>\n",
       "      <th>pixel2</th>\n",
       "      <th>pixel3</th>\n",
       "      <th>pixel4</th>\n",
       "      <th>pixel5</th>\n",
       "      <th>pixel6</th>\n",
       "      <th>pixel7</th>\n",
       "      <th>pixel8</th>\n",
       "      <th>...</th>\n",
       "      <th>pixel774</th>\n",
       "      <th>pixel775</th>\n",
       "      <th>pixel776</th>\n",
       "      <th>pixel777</th>\n",
       "      <th>pixel778</th>\n",
       "      <th>pixel779</th>\n",
       "      <th>pixel780</th>\n",
       "      <th>pixel781</th>\n",
       "      <th>pixel782</th>\n",
       "      <th>pixel783</th>\n",
       "    </tr>\n",
       "  </thead>\n",
       "  <tbody>\n",
       "    <tr>\n",
       "      <th>0</th>\n",
       "      <td>1</td>\n",
       "      <td>0</td>\n",
       "      <td>0</td>\n",
       "      <td>0</td>\n",
       "      <td>0</td>\n",
       "      <td>0</td>\n",
       "      <td>0</td>\n",
       "      <td>0</td>\n",
       "      <td>0</td>\n",
       "      <td>0</td>\n",
       "      <td>...</td>\n",
       "      <td>0</td>\n",
       "      <td>0</td>\n",
       "      <td>0</td>\n",
       "      <td>0</td>\n",
       "      <td>0</td>\n",
       "      <td>0</td>\n",
       "      <td>0</td>\n",
       "      <td>0</td>\n",
       "      <td>0</td>\n",
       "      <td>0</td>\n",
       "    </tr>\n",
       "    <tr>\n",
       "      <th>1</th>\n",
       "      <td>0</td>\n",
       "      <td>0</td>\n",
       "      <td>0</td>\n",
       "      <td>0</td>\n",
       "      <td>0</td>\n",
       "      <td>0</td>\n",
       "      <td>0</td>\n",
       "      <td>0</td>\n",
       "      <td>0</td>\n",
       "      <td>0</td>\n",
       "      <td>...</td>\n",
       "      <td>0</td>\n",
       "      <td>0</td>\n",
       "      <td>0</td>\n",
       "      <td>0</td>\n",
       "      <td>0</td>\n",
       "      <td>0</td>\n",
       "      <td>0</td>\n",
       "      <td>0</td>\n",
       "      <td>0</td>\n",
       "      <td>0</td>\n",
       "    </tr>\n",
       "    <tr>\n",
       "      <th>2</th>\n",
       "      <td>1</td>\n",
       "      <td>0</td>\n",
       "      <td>0</td>\n",
       "      <td>0</td>\n",
       "      <td>0</td>\n",
       "      <td>0</td>\n",
       "      <td>0</td>\n",
       "      <td>0</td>\n",
       "      <td>0</td>\n",
       "      <td>0</td>\n",
       "      <td>...</td>\n",
       "      <td>0</td>\n",
       "      <td>0</td>\n",
       "      <td>0</td>\n",
       "      <td>0</td>\n",
       "      <td>0</td>\n",
       "      <td>0</td>\n",
       "      <td>0</td>\n",
       "      <td>0</td>\n",
       "      <td>0</td>\n",
       "      <td>0</td>\n",
       "    </tr>\n",
       "    <tr>\n",
       "      <th>3</th>\n",
       "      <td>4</td>\n",
       "      <td>0</td>\n",
       "      <td>0</td>\n",
       "      <td>0</td>\n",
       "      <td>0</td>\n",
       "      <td>0</td>\n",
       "      <td>0</td>\n",
       "      <td>0</td>\n",
       "      <td>0</td>\n",
       "      <td>0</td>\n",
       "      <td>...</td>\n",
       "      <td>0</td>\n",
       "      <td>0</td>\n",
       "      <td>0</td>\n",
       "      <td>0</td>\n",
       "      <td>0</td>\n",
       "      <td>0</td>\n",
       "      <td>0</td>\n",
       "      <td>0</td>\n",
       "      <td>0</td>\n",
       "      <td>0</td>\n",
       "    </tr>\n",
       "    <tr>\n",
       "      <th>4</th>\n",
       "      <td>0</td>\n",
       "      <td>0</td>\n",
       "      <td>0</td>\n",
       "      <td>0</td>\n",
       "      <td>0</td>\n",
       "      <td>0</td>\n",
       "      <td>0</td>\n",
       "      <td>0</td>\n",
       "      <td>0</td>\n",
       "      <td>0</td>\n",
       "      <td>...</td>\n",
       "      <td>0</td>\n",
       "      <td>0</td>\n",
       "      <td>0</td>\n",
       "      <td>0</td>\n",
       "      <td>0</td>\n",
       "      <td>0</td>\n",
       "      <td>0</td>\n",
       "      <td>0</td>\n",
       "      <td>0</td>\n",
       "      <td>0</td>\n",
       "    </tr>\n",
       "  </tbody>\n",
       "</table>\n",
       "<p>5 rows × 785 columns</p>\n",
       "</div>"
      ],
      "text/plain": [
       "   label  pixel0  pixel1  pixel2  pixel3  pixel4  pixel5  pixel6  pixel7  \\\n",
       "0      1       0       0       0       0       0       0       0       0   \n",
       "1      0       0       0       0       0       0       0       0       0   \n",
       "2      1       0       0       0       0       0       0       0       0   \n",
       "3      4       0       0       0       0       0       0       0       0   \n",
       "4      0       0       0       0       0       0       0       0       0   \n",
       "\n",
       "   pixel8  ...  pixel774  pixel775  pixel776  pixel777  pixel778  pixel779  \\\n",
       "0       0  ...         0         0         0         0         0         0   \n",
       "1       0  ...         0         0         0         0         0         0   \n",
       "2       0  ...         0         0         0         0         0         0   \n",
       "3       0  ...         0         0         0         0         0         0   \n",
       "4       0  ...         0         0         0         0         0         0   \n",
       "\n",
       "   pixel780  pixel781  pixel782  pixel783  \n",
       "0         0         0         0         0  \n",
       "1         0         0         0         0  \n",
       "2         0         0         0         0  \n",
       "3         0         0         0         0  \n",
       "4         0         0         0         0  \n",
       "\n",
       "[5 rows x 785 columns]"
      ]
     },
     "execution_count": 3,
     "metadata": {},
     "output_type": "execute_result"
    }
   ],
   "source": [
    "data.head()"
   ]
  },
  {
   "cell_type": "code",
   "execution_count": 4,
   "id": "72278f75",
   "metadata": {
    "execution": {
     "iopub.execute_input": "2024-10-28T20:18:37.350132Z",
     "iopub.status.busy": "2024-10-28T20:18:37.349737Z",
     "iopub.status.idle": "2024-10-28T20:18:38.177576Z",
     "shell.execute_reply": "2024-10-28T20:18:38.176530Z"
    },
    "papermill": {
     "duration": 0.835739,
     "end_time": "2024-10-28T20:18:38.180402",
     "exception": false,
     "start_time": "2024-10-28T20:18:37.344663",
     "status": "completed"
    },
    "tags": []
   },
   "outputs": [],
   "source": [
    "data = np.array(data)\n",
    "m, n = data.shape\n",
    "np.random.shuffle(data) # shuffle before splitting into dev and training sets\n",
    "\n",
    "data_dev = data[0:1000].T\n",
    "Y_dev = data_dev[0]\n",
    "X_dev = data_dev[1:n]\n",
    "X_dev = X_dev / 255.\n",
    "\n",
    "data_train = data[1000:m].T\n",
    "Y_train = data_train[0]\n",
    "X_train = data_train[1:n]\n",
    "X_train = X_train / 255.\n",
    "_,m_train = X_train.shape"
   ]
  },
  {
   "cell_type": "code",
   "execution_count": 5,
   "id": "10e36da7",
   "metadata": {
    "execution": {
     "iopub.execute_input": "2024-10-28T20:18:38.189628Z",
     "iopub.status.busy": "2024-10-28T20:18:38.189169Z",
     "iopub.status.idle": "2024-10-28T20:18:38.201337Z",
     "shell.execute_reply": "2024-10-28T20:18:38.200132Z"
    },
    "papermill": {
     "duration": 0.019546,
     "end_time": "2024-10-28T20:18:38.203700",
     "exception": false,
     "start_time": "2024-10-28T20:18:38.184154",
     "status": "completed"
    },
    "tags": []
   },
   "outputs": [],
   "source": [
    "def init_params():\n",
    "    W1 = np.random.rand(10, 784) - 0.5\n",
    "    b1 = np.random.rand(10, 1) - 0.5\n",
    "    W2 = np.random.rand(10, 10) - 0.5\n",
    "    b2 = np.random.rand(10, 1) - 0.5\n",
    "    return W1, b1, W2, b2\n",
    "\n",
    "def ReLU(Z):\n",
    "    return np.maximum(Z, 0)\n",
    "\n",
    "def softmax(Z):\n",
    "    A = np.exp(Z) / sum(np.exp(Z))\n",
    "    return A\n",
    "    \n",
    "def forward_prop(W1, b1, W2, b2, X):\n",
    "    Z1 = W1.dot(X) + b1\n",
    "    A1 = ReLU(Z1)\n",
    "    Z2 = W2.dot(A1) + b2\n",
    "    A2 = softmax(Z2)\n",
    "    return Z1, A1, Z2, A2\n",
    "\n",
    "def ReLU_deriv(Z):\n",
    "    return Z > 0\n",
    "\n",
    "def one_hot(Y):\n",
    "    one_hot_Y = np.zeros((Y.size, Y.max() + 1))\n",
    "    one_hot_Y[np.arange(Y.size), Y] = 1\n",
    "    one_hot_Y = one_hot_Y.T\n",
    "    return one_hot_Y\n",
    "\n",
    "def backward_prop(Z1, A1, Z2, A2, W1, W2, X, Y):\n",
    "    one_hot_Y = one_hot(Y)\n",
    "    dZ2 = A2 - one_hot_Y\n",
    "    dW2 = 1 / m * dZ2.dot(A1.T)\n",
    "    db2 = 1 / m * np.sum(dZ2)\n",
    "    dZ1 = W2.T.dot(dZ2) * ReLU_deriv(Z1)\n",
    "    dW1 = 1 / m * dZ1.dot(X.T)\n",
    "    db1 = 1 / m * np.sum(dZ1)\n",
    "    return dW1, db1, dW2, db2\n",
    "\n",
    "def update_params(W1, b1, W2, b2, dW1, db1, dW2, db2, alpha):\n",
    "    W1 = W1 - alpha * dW1\n",
    "    b1 = b1 - alpha * db1    \n",
    "    W2 = W2 - alpha * dW2  \n",
    "    b2 = b2 - alpha * db2    \n",
    "    return W1, b1, W2, b2"
   ]
  },
  {
   "cell_type": "code",
   "execution_count": 6,
   "id": "bea90288",
   "metadata": {
    "execution": {
     "iopub.execute_input": "2024-10-28T20:18:38.212913Z",
     "iopub.status.busy": "2024-10-28T20:18:38.212483Z",
     "iopub.status.idle": "2024-10-28T20:18:38.221109Z",
     "shell.execute_reply": "2024-10-28T20:18:38.219973Z"
    },
    "papermill": {
     "duration": 0.016094,
     "end_time": "2024-10-28T20:18:38.223556",
     "exception": false,
     "start_time": "2024-10-28T20:18:38.207462",
     "status": "completed"
    },
    "tags": []
   },
   "outputs": [],
   "source": [
    "def get_predictions(A2):\n",
    "    return np.argmax(A2, 0)\n",
    "\n",
    "def get_accuracy(predictions, Y):\n",
    "    print(predictions, Y)\n",
    "    return np.sum(predictions == Y) / Y.size\n",
    "\n",
    "def gradient_descent(X, Y, alpha, iterations):\n",
    "    W1, b1, W2, b2 = init_params()\n",
    "    for i in range(iterations):\n",
    "        Z1, A1, Z2, A2 = forward_prop(W1, b1, W2, b2, X)\n",
    "        dW1, db1, dW2, db2 = backward_prop(Z1, A1, Z2, A2, W1, W2, X, Y)\n",
    "        W1, b1, W2, b2 = update_params(W1, b1, W2, b2, dW1, db1, dW2, db2, alpha)\n",
    "        if i % 10 == 0:\n",
    "            print(\"Iteration: \", i)\n",
    "            predictions = get_predictions(A2)\n",
    "            print(get_accuracy(predictions, Y))\n",
    "    return W1, b1, W2, b2"
   ]
  },
  {
   "cell_type": "code",
   "execution_count": 7,
   "id": "89129d34",
   "metadata": {
    "execution": {
     "iopub.execute_input": "2024-10-28T20:18:38.232872Z",
     "iopub.status.busy": "2024-10-28T20:18:38.232407Z",
     "iopub.status.idle": "2024-10-28T20:19:32.503664Z",
     "shell.execute_reply": "2024-10-28T20:19:32.502356Z"
    },
    "papermill": {
     "duration": 54.280375,
     "end_time": "2024-10-28T20:19:32.507688",
     "exception": false,
     "start_time": "2024-10-28T20:18:38.227313",
     "status": "completed"
    },
    "tags": []
   },
   "outputs": [
    {
     "name": "stdout",
     "output_type": "stream",
     "text": [
      "Iteration:  0\n",
      "[3 8 8 ... 8 4 8] [2 0 3 ... 4 6 5]\n",
      "0.06526829268292683\n",
      "Iteration:  10\n",
      "[3 4 4 ... 8 9 1] [2 0 3 ... 4 6 5]\n",
      "0.10824390243902439\n",
      "Iteration:  20\n",
      "[3 4 4 ... 8 9 1] [2 0 3 ... 4 6 5]\n",
      "0.17565853658536584\n",
      "Iteration:  30\n",
      "[3 4 4 ... 8 9 1] [2 0 3 ... 4 6 5]\n",
      "0.25521951219512196\n",
      "Iteration:  40\n",
      "[3 2 4 ... 8 9 1] [2 0 3 ... 4 6 5]\n",
      "0.31853658536585366\n",
      "Iteration:  50\n",
      "[3 2 4 ... 8 0 6] [2 0 3 ... 4 6 5]\n",
      "0.38109756097560976\n",
      "Iteration:  60\n",
      "[3 3 8 ... 3 0 0] [2 0 3 ... 4 6 5]\n",
      "0.443\n",
      "Iteration:  70\n",
      "[3 3 2 ... 3 6 5] [2 0 3 ... 4 6 5]\n",
      "0.49817073170731707\n",
      "Iteration:  80\n",
      "[3 3 3 ... 3 6 5] [2 0 3 ... 4 6 5]\n",
      "0.5427317073170732\n",
      "Iteration:  90\n",
      "[3 3 3 ... 3 6 5] [2 0 3 ... 4 6 5]\n",
      "0.5793658536585365\n",
      "Iteration:  100\n",
      "[3 3 3 ... 3 6 5] [2 0 3 ... 4 6 5]\n",
      "0.6077317073170732\n",
      "Iteration:  110\n",
      "[3 3 3 ... 3 6 5] [2 0 3 ... 4 6 5]\n",
      "0.6303170731707317\n",
      "Iteration:  120\n",
      "[3 3 3 ... 3 6 5] [2 0 3 ... 4 6 5]\n",
      "0.6501463414634147\n",
      "Iteration:  130\n",
      "[3 3 3 ... 3 6 5] [2 0 3 ... 4 6 5]\n",
      "0.6661463414634147\n",
      "Iteration:  140\n",
      "[3 3 3 ... 3 6 5] [2 0 3 ... 4 6 5]\n",
      "0.6798780487804879\n",
      "Iteration:  150\n",
      "[3 5 3 ... 3 6 5] [2 0 3 ... 4 6 5]\n",
      "0.6926341463414634\n",
      "Iteration:  160\n",
      "[3 5 3 ... 3 6 5] [2 0 3 ... 4 6 5]\n",
      "0.701560975609756\n",
      "Iteration:  170\n",
      "[3 5 3 ... 3 6 5] [2 0 3 ... 4 6 5]\n",
      "0.7103414634146341\n",
      "Iteration:  180\n",
      "[3 5 3 ... 3 6 5] [2 0 3 ... 4 6 5]\n",
      "0.718170731707317\n",
      "Iteration:  190\n",
      "[3 5 3 ... 3 6 5] [2 0 3 ... 4 6 5]\n",
      "0.7264146341463414\n",
      "Iteration:  200\n",
      "[3 5 3 ... 3 6 5] [2 0 3 ... 4 6 5]\n",
      "0.7334878048780488\n",
      "Iteration:  210\n",
      "[3 5 3 ... 3 6 5] [2 0 3 ... 4 6 5]\n",
      "0.7394390243902439\n",
      "Iteration:  220\n",
      "[3 5 3 ... 9 6 5] [2 0 3 ... 4 6 5]\n",
      "0.7453658536585366\n",
      "Iteration:  230\n",
      "[3 5 3 ... 9 6 5] [2 0 3 ... 4 6 5]\n",
      "0.7505609756097561\n",
      "Iteration:  240\n",
      "[3 0 3 ... 9 6 5] [2 0 3 ... 4 6 5]\n",
      "0.755609756097561\n",
      "Iteration:  250\n",
      "[3 0 3 ... 9 6 5] [2 0 3 ... 4 6 5]\n",
      "0.7608048780487805\n",
      "Iteration:  260\n",
      "[3 0 3 ... 9 6 5] [2 0 3 ... 4 6 5]\n",
      "0.7654878048780488\n",
      "Iteration:  270\n",
      "[3 0 3 ... 9 6 5] [2 0 3 ... 4 6 5]\n",
      "0.7703414634146342\n",
      "Iteration:  280\n",
      "[3 0 3 ... 9 6 5] [2 0 3 ... 4 6 5]\n",
      "0.774390243902439\n",
      "Iteration:  290\n",
      "[3 0 3 ... 9 6 5] [2 0 3 ... 4 6 5]\n",
      "0.7780975609756098\n",
      "Iteration:  300\n",
      "[3 0 3 ... 9 6 5] [2 0 3 ... 4 6 5]\n",
      "0.7819512195121952\n",
      "Iteration:  310\n",
      "[3 0 3 ... 9 6 5] [2 0 3 ... 4 6 5]\n",
      "0.7859512195121952\n",
      "Iteration:  320\n",
      "[3 0 3 ... 9 6 5] [2 0 3 ... 4 6 5]\n",
      "0.7889024390243903\n",
      "Iteration:  330\n",
      "[3 0 3 ... 9 6 5] [2 0 3 ... 4 6 5]\n",
      "0.7922439024390244\n",
      "Iteration:  340\n",
      "[3 0 3 ... 9 6 5] [2 0 3 ... 4 6 5]\n",
      "0.7957073170731708\n",
      "Iteration:  350\n",
      "[3 0 3 ... 9 6 5] [2 0 3 ... 4 6 5]\n",
      "0.7986341463414635\n",
      "Iteration:  360\n",
      "[3 0 3 ... 9 6 5] [2 0 3 ... 4 6 5]\n",
      "0.8015853658536586\n",
      "Iteration:  370\n",
      "[3 0 3 ... 9 6 5] [2 0 3 ... 4 6 5]\n",
      "0.8045121951219513\n",
      "Iteration:  380\n",
      "[3 0 3 ... 9 6 5] [2 0 3 ... 4 6 5]\n",
      "0.8069268292682927\n",
      "Iteration:  390\n",
      "[3 0 3 ... 9 6 5] [2 0 3 ... 4 6 5]\n",
      "0.8098780487804879\n",
      "Iteration:  400\n",
      "[3 0 3 ... 9 6 5] [2 0 3 ... 4 6 5]\n",
      "0.8115121951219513\n",
      "Iteration:  410\n",
      "[3 0 3 ... 9 6 5] [2 0 3 ... 4 6 5]\n",
      "0.8142926829268292\n",
      "Iteration:  420\n",
      "[3 0 3 ... 9 6 5] [2 0 3 ... 4 6 5]\n",
      "0.8168048780487804\n",
      "Iteration:  430\n",
      "[3 0 3 ... 9 6 5] [2 0 3 ... 4 6 5]\n",
      "0.8189268292682926\n",
      "Iteration:  440\n",
      "[3 0 3 ... 9 6 5] [2 0 3 ... 4 6 5]\n",
      "0.8212195121951219\n",
      "Iteration:  450\n",
      "[3 0 3 ... 9 6 5] [2 0 3 ... 4 6 5]\n",
      "0.8233658536585365\n",
      "Iteration:  460\n",
      "[3 0 3 ... 9 6 5] [2 0 3 ... 4 6 5]\n",
      "0.825390243902439\n",
      "Iteration:  470\n",
      "[3 0 3 ... 9 6 5] [2 0 3 ... 4 6 5]\n",
      "0.8268536585365853\n",
      "Iteration:  480\n",
      "[3 0 3 ... 9 6 5] [2 0 3 ... 4 6 5]\n",
      "0.8285853658536585\n",
      "Iteration:  490\n",
      "[3 0 3 ... 9 6 5] [2 0 3 ... 4 6 5]\n",
      "0.8303658536585365\n"
     ]
    }
   ],
   "source": [
    "W1, b1, W2, b2 = gradient_descent(X_train, Y_train, 0.10, 500)"
   ]
  },
  {
   "cell_type": "code",
   "execution_count": 8,
   "id": "103e0f29",
   "metadata": {
    "execution": {
     "iopub.execute_input": "2024-10-28T20:19:32.533890Z",
     "iopub.status.busy": "2024-10-28T20:19:32.533316Z",
     "iopub.status.idle": "2024-10-28T20:19:32.546027Z",
     "shell.execute_reply": "2024-10-28T20:19:32.544687Z"
    },
    "papermill": {
     "duration": 0.029793,
     "end_time": "2024-10-28T20:19:32.549691",
     "exception": false,
     "start_time": "2024-10-28T20:19:32.519898",
     "status": "completed"
    },
    "tags": []
   },
   "outputs": [],
   "source": [
    "def make_predictions(X, W1, b1, W2, b2):\n",
    "    _, _, _, A2 = forward_prop(W1, b1, W2, b2, X)\n",
    "    predictions = get_predictions(A2)\n",
    "    return predictions\n",
    "\n",
    "def test_prediction(index, W1, b1, W2, b2):\n",
    "    current_image = X_train[:, index, None]\n",
    "    prediction = make_predictions(X_train[:, index, None], W1, b1, W2, b2)\n",
    "    label = Y_train[index]\n",
    "    print(\"Prediction: \", prediction)\n",
    "    print(\"Label: \", label)\n",
    "    \n",
    "    current_image = current_image.reshape((28, 28)) * 255\n",
    "    plt.gray()\n",
    "    plt.imshow(current_image, interpolation='nearest')\n",
    "    plt.show()"
   ]
  },
  {
   "cell_type": "code",
   "execution_count": 9,
   "id": "e58e4ec5",
   "metadata": {
    "execution": {
     "iopub.execute_input": "2024-10-28T20:19:32.574939Z",
     "iopub.status.busy": "2024-10-28T20:19:32.574375Z",
     "iopub.status.idle": "2024-10-28T20:19:33.451801Z",
     "shell.execute_reply": "2024-10-28T20:19:33.450571Z"
    },
    "papermill": {
     "duration": 0.893217,
     "end_time": "2024-10-28T20:19:33.454208",
     "exception": false,
     "start_time": "2024-10-28T20:19:32.560991",
     "status": "completed"
    },
    "tags": []
   },
   "outputs": [
    {
     "name": "stdout",
     "output_type": "stream",
     "text": [
      "Prediction:  [3]\n",
      "Label:  2\n"
     ]
    },
    {
     "data": {
      "image/png": "[encoded data removed]",
      "text/plain": [
       "<Figure size 640x480 with 1 Axes>"
      ]
     },
     "metadata": {},
     "output_type": "display_data"
    },
    {
     "name": "stdout",
     "output_type": "stream",
     "text": [
      "Prediction:  [0]\n",
      "Label:  0\n"
     ]
    },
    {
     "data": {
      "image/png": "[encoded data removed]",
      "text/plain": [
       "<Figure size 640x480 with 1 Axes>"
      ]
     },
     "metadata": {},
     "output_type": "display_data"
    },
    {
     "name": "stdout",
     "output_type": "stream",
     "text": [
      "Prediction:  [3]\n",
      "Label:  3\n"
     ]
    },
    {
     "data": {
      "image/png": "[encoded data removed]",
      "text/plain": [
       "<Figure size 640x480 with 1 Axes>"
      ]
     },
     "metadata": {},
     "output_type": "display_data"
    },
    {
     "name": "stdout",
     "output_type": "stream",
     "text": [
      "Prediction:  [0]\n",
      "Label:  0\n"
     ]
    },
    {
     "data": {
      "image/png": "[encoded data removed]",
      "text/plain": [
       "<Figure size 640x480 with 1 Axes>"
      ]
     },
     "metadata": {},
     "output_type": "display_data"
    }
   ],
   "source": [
    "test_prediction(0, W1, b1, W2, b2)\n",
    "test_prediction(1, W1, b1, W2, b2)\n",
    "test_prediction(2, W1, b1, W2, b2)\n",
    "test_prediction(3, W1, b1, W2, b2)"
   ]
  },
  {
   "cell_type": "code",
   "execution_count": 10,
   "id": "d48a4fe7",
   "metadata": {
    "execution": {
     "iopub.execute_input": "2024-10-28T20:19:33.473807Z",
     "iopub.status.busy": "2024-10-28T20:19:33.473050Z",
     "iopub.status.idle": "2024-10-28T20:19:33.492179Z",
     "shell.execute_reply": "2024-10-28T20:19:33.490715Z"
    },
    "papermill": {
     "duration": 0.032074,
     "end_time": "2024-10-28T20:19:33.495788",
     "exception": false,
     "start_time": "2024-10-28T20:19:33.463714",
     "status": "completed"
    },
    "tags": []
   },
   "outputs": [
    {
     "name": "stdout",
     "output_type": "stream",
     "text": [
      "[2 5 5 0 6 5 7 6 3 6 7 4 1 6 3 3 8 7 8 3 3 6 9 0 6 5 6 0 9 1 0 9 8 9 0 2 6\n",
      " 1 0 9 1 7 2 4 1 7 7 7 8 7 5 2 0 8 6 2 6 1 2 1 0 3 6 6 4 1 6 8 2 2 7 2 4 1\n",
      " 6 1 6 3 8 3 2 4 5 9 0 3 1 8 1 5 0 0 1 7 6 0 4 2 3 2 0 6 7 9 3 1 3 4 0 1 2\n",
      " 1 6 5 5 1 8 8 1 3 7 7 0 3 5 4 4 2 8 2 4 9 7 5 1 2 1 5 6 3 2 7 8 3 7 5 7 5\n",
      " 0 6 3 7 7 4 6 7 4 7 9 2 1 3 7 8 2 3 5 1 3 1 9 2 1 9 2 3 6 8 0 3 1 0 4 8 6\n",
      " 6 6 6 0 2 1 0 4 7 7 3 9 9 5 2 0 8 2 0 1 0 6 4 6 9 4 9 4 9 9 0 0 7 5 6 2 7\n",
      " 5 6 0 6 2 5 5 8 1 4 5 3 3 7 2 5 0 1 6 0 2 9 0 7 4 9 7 8 6 9 3 2 0 9 3 2 3\n",
      " 4 6 1 3 4 3 3 8 1 0 7 0 5 9 9 4 1 4 0 7 4 6 7 7 4 7 9 6 5 4 7 1 7 5 4 2 1\n",
      " 7 2 0 1 9 0 2 3 9 9 6 8 9 6 1 2 6 3 1 8 5 7 4 9 4 9 5 0 4 9 3 2 9 8 2 8 4\n",
      " 2 4 6 2 5 2 8 6 1 1 9 8 6 6 2 1 2 4 6 9 6 1 1 6 3 3 7 0 9 7 0 7 1 7 7 4 0\n",
      " 3 5 3 3 1 4 3 7 1 5 9 0 9 3 7 3 5 3 8 3 2 9 6 9 4 2 1 2 3 5 8 9 6 1 6 7 0\n",
      " 2 2 0 1 2 2 9 3 1 1 9 7 3 6 6 1 6 5 9 3 1 3 3 2 5 4 0 9 4 1 2 8 1 5 4 4 4\n",
      " 6 4 7 4 7 4 6 8 3 8 9 9 1 7 4 6 7 7 7 2 3 0 1 1 1 1 7 8 3 8 9 5 9 9 7 2 9\n",
      " 1 1 8 9 1 9 6 7 3 5 0 1 0 2 0 3 1 8 1 5 9 5 1 8 4 9 6 7 4 4 5 6 0 0 6 7 7\n",
      " 3 9 3 5 6 7 2 2 6 4 8 3 8 7 7 8 6 4 8 6 9 4 8 4 6 3 5 4 7 4 3 6 4 1 7 4 0\n",
      " 6 6 7 9 7 4 8 0 7 1 6 4 4 8 1 6 0 2 4 5 5 9 7 2 3 2 2 6 8 5 8 0 7 6 4 0 5\n",
      " 4 1 3 8 8 0 6 8 7 9 8 6 7 9 0 4 9 6 9 0 2 7 4 8 3 7 9 6 3 1 0 0 4 0 3 3 2\n",
      " 2 2 6 5 1 3 2 9 2 9 5 0 0 1 5 9 1 3 9 7 2 6 3 2 9 9 5 9 7 3 8 8 2 4 1 1 4\n",
      " 0 3 4 9 6 1 9 0 1 3 2 9 2 9 1 9 4 9 2 3 9 1 3 3 8 4 8 6 7 8 5 7 8 4 3 9 5\n",
      " 1 0 4 3 5 1 8 5 6 0 6 5 7 3 1 8 9 1 3 7 3 8 6 9 3 6 0 3 9 7 8 1 3 7 2 1 3\n",
      " 5 3 1 2 5 8 1 3 0 0 0 3 6 9 4 0 1 3 0 2 0 0 7 8 7 5 9 6 6 0 9 0 8 9 1 5 6\n",
      " 3 7 1 8 1 0 6 0 0 5 2 2 9 8 1 2 8 6 0 8 0 8 3 3 7 9 1 3 8 6 2 5 5 8 9 4 2\n",
      " 5 0 1 7 6 2 3 7 4 6 4 1 2 1 5 9 1 4 1 9 5 8 3 9 3 1 9 7 9 9 6 1 6 4 4 6 3\n",
      " 0 1 2 4 9 1 6 7 0 0 2 8 7 9 1 9 6 2 4 1 3 4 1 3 4 2 1 2 1 9 0 8 0 1 1 5 6\n",
      " 4 5 5 6 6 3 0 4 6 8 0 1 4 9 9 9 0 3 3 8 5 4 8 5 4 1 9 9 7 3 7 5 5 8 7 7 1\n",
      " 3 9 4 6 8 4 6 4 2 3 3 7 6 4 3 1 1 1 5 9 3 3 0 9 4 7 1 3 9 3 7 1 0 9 6 9 4\n",
      " 0 2 6 3 0 2 0 1 4 8 0 5 0 7 7 2 9 1 1 1 2 9 3 2 9 7 9 6 3 9 3 5 5 1 3 2 7\n",
      " 9] [2 5 5 0 6 5 7 6 3 6 7 4 1 6 3 3 8 7 8 3 3 6 9 0 6 5 6 8 9 1 0 4 8 7 0 2 6\n",
      " 1 0 9 1 7 2 4 1 7 7 7 8 7 5 2 5 8 6 2 6 1 2 1 0 3 6 6 4 1 6 8 2 2 7 3 4 1\n",
      " 6 1 6 3 8 3 2 6 5 9 0 7 1 8 1 5 0 0 1 7 6 5 4 2 3 2 0 6 7 9 3 1 3 4 0 1 7\n",
      " 1 6 5 8 1 8 8 1 3 7 7 0 3 5 4 3 2 8 2 4 4 7 3 8 2 1 5 6 3 4 7 8 3 7 5 7 5\n",
      " 0 6 3 7 7 4 6 7 4 7 9 2 1 3 7 3 5 3 5 1 3 1 9 2 1 9 2 3 6 8 0 3 1 5 4 3 2\n",
      " 6 5 6 0 3 7 0 8 7 7 3 9 1 5 2 6 8 3 0 1 0 6 4 6 7 4 9 4 7 9 0 0 7 5 6 8 9\n",
      " 5 6 0 6 2 3 5 8 1 4 5 3 3 7 2 5 0 1 6 0 2 9 0 9 4 9 7 8 6 9 3 6 0 9 8 2 3\n",
      " 4 6 1 3 4 3 3 2 1 0 7 0 5 9 9 4 1 4 0 7 4 6 3 7 4 9 4 6 5 9 7 1 7 5 4 2 1\n",
      " 7 2 0 1 9 0 2 3 9 4 6 2 9 6 1 2 6 3 1 8 5 7 4 9 4 4 5 0 4 5 3 2 9 8 2 8 9\n",
      " 2 4 6 2 5 2 8 6 1 1 9 8 6 6 2 8 2 4 6 9 6 1 1 6 3 3 7 0 9 7 0 7 1 4 7 4 0\n",
      " 3 0 3 3 1 4 3 7 1 5 9 0 4 3 7 3 5 3 8 3 8 4 6 9 4 2 1 2 3 5 9 9 6 1 6 7 0\n",
      " 2 2 0 1 2 2 9 3 1 1 9 7 3 6 6 5 5 5 7 3 8 3 5 1 5 9 0 9 4 1 2 8 1 5 4 4 2\n",
      " 6 4 4 4 7 4 6 8 3 8 4 9 1 7 4 6 7 7 7 2 8 6 1 1 1 1 7 8 3 8 9 5 9 9 7 2 9\n",
      " 1 1 8 9 1 7 6 9 8 5 0 1 0 2 0 3 1 8 1 5 9 5 8 8 4 9 6 3 9 9 8 6 0 0 6 7 7\n",
      " 3 9 2 5 5 9 2 3 6 9 8 2 8 9 7 5 6 9 8 6 7 4 8 4 6 3 5 4 7 5 9 6 4 5 7 4 0\n",
      " 6 6 7 1 7 4 1 3 7 1 6 4 4 8 1 6 5 2 4 5 5 5 7 2 3 2 7 6 8 5 8 0 7 6 9 0 5\n",
      " 4 1 5 8 8 0 6 8 7 9 8 6 5 8 0 9 9 6 9 0 2 7 4 8 3 8 9 6 3 1 8 0 4 0 3 3 2\n",
      " 2 2 6 9 1 3 2 9 2 9 5 6 0 1 5 9 1 3 9 7 2 6 3 2 9 9 5 5 7 3 8 8 2 4 1 1 4\n",
      " 0 3 4 4 6 1 9 0 1 3 2 9 7 9 1 9 4 9 2 3 4 1 3 3 8 4 8 6 7 5 5 7 8 4 5 9 5\n",
      " 1 0 4 3 5 1 8 0 6 0 6 5 6 3 1 8 7 1 5 7 3 8 6 9 3 6 0 3 9 7 6 1 3 7 2 1 3\n",
      " 5 3 1 2 5 3 1 3 0 0 0 8 6 9 4 0 1 2 0 2 0 3 7 8 7 7 9 0 6 0 9 5 8 9 1 8 6\n",
      " 3 7 1 8 1 0 6 0 0 5 2 2 9 9 1 6 5 6 0 8 0 5 3 3 7 9 1 5 8 4 2 5 5 8 9 9 2\n",
      " 5 7 1 7 6 2 3 7 6 4 9 3 2 1 5 9 1 9 1 9 5 8 8 9 2 1 4 7 7 9 2 1 4 4 9 6 3\n",
      " 0 1 9 4 9 1 6 9 0 0 2 8 7 4 1 9 8 2 4 1 3 4 1 2 4 2 1 2 1 9 0 8 0 1 1 5 6\n",
      " 4 5 5 6 5 3 0 4 6 8 0 1 4 7 8 4 0 3 3 8 0 4 8 0 4 1 9 9 7 3 7 9 5 8 7 7 1\n",
      " 3 9 4 6 8 4 6 4 2 3 3 7 6 4 3 1 1 1 5 9 3 8 0 9 4 7 1 3 9 3 1 1 0 9 6 7 4\n",
      " 0 2 6 5 0 1 0 1 4 8 7 5 0 7 7 3 9 1 1 1 2 9 3 3 9 7 9 6 3 9 3 5 5 1 3 2 7\n",
      " 4]\n"
     ]
    },
    {
     "data": {
      "text/plain": [
       "0.84"
      ]
     },
     "execution_count": 10,
     "metadata": {},
     "output_type": "execute_result"
    }
   ],
   "source": [
    "dev_predictions = make_predictions(X_dev, W1, b1, W2, b2)\n",
    "get_accuracy(dev_predictions, Y_dev)"
   ]
  }
 ],
 "metadata": {
  "kaggle": {
   "accelerator": "none",
   "dataSources": [
    {
     "databundleVersionId": 861823,
     "sourceId": 3004,
     "sourceType": "competition"
    }
   ],
   "dockerImageVersionId": 30786,
   "isGpuEnabled": false,
   "isInternetEnabled": false,
   "language": "python",
   "sourceType": "notebook"
  },
  "kernelspec": {
   "display_name": "Python 3",
   "language": "python",
   "name": "python3"
  },
  "language_info": {
   "codemirror_mode": {
    "name": "ipython",
    "version": 3
   },
   "file_extension": ".py",
   "mimetype": "text/x-python",
   "name": "python",
   "nbconvert_exporter": "python",
   "pygments_lexer": "ipython3",
   "version": "3.10.14"
  },
  "papermill": {
   "default_parameters": {},
   "duration": 64.147949,
   "end_time": "2024-10-28T20:19:34.034185",
   "environment_variables": {},
   "exception": null,
   "input_path": "__notebook__.ipynb",
   "output_path": "__notebook__.ipynb",
   "parameters": {},
   "start_time": "2024-10-28T20:18:29.886236",
   "version": "2.6.0"
  }
 },
 "nbformat": 4,
 "nbformat_minor": 5
}
